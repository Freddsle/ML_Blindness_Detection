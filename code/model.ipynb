{
  "cells": [
    {
      "cell_type": "markdown",
      "metadata": {
        "id": "view-in-github",
        "colab_type": "text"
      },
      "source": [
        "<a href=\"https://colab.research.google.com/github/Freddsle/ML_Blindness_Detection/blob/main/code/model.ipynb\" target=\"_parent\"><img src=\"https://colab.research.google.com/assets/colab-badge.svg\" alt=\"Open In Colab\"/></a>"
      ]
    },
    {
      "cell_type": "markdown",
      "metadata": {
        "id": "is85_G0CqZr4"
      },
      "source": [
        "> collab"
      ]
    },
    {
      "cell_type": "code",
      "execution_count": 50,
      "metadata": {
        "id": "yt2qIpGfoArV"
      },
      "outputs": [],
      "source": [
        "from IPython.display import clear_output\n",
        "import pandas as pd\n",
        "import matplotlib.pyplot as plt\n",
        "import numpy as np\n",
        "import os\n",
        "import torch\n",
        "import random\n",
        "import seaborn as sns\n",
        "\n",
        "from sklearn.metrics import accuracy_score, f1_score\n",
        "\n",
        "from PIL import Image"
      ]
    },
    {
      "cell_type": "code",
      "execution_count": 51,
      "metadata": {
        "id": "129gn_qnn_B3"
      },
      "outputs": [],
      "source": [
        "def seed_everything(seed):\n",
        "    random.seed(seed)\n",
        "    os.environ['PYTHONHASHSEED'] = str(seed)\n",
        "    np.random.seed(seed)\n",
        "    torch.manual_seed(seed)\n",
        "    torch.cuda.manual_seed(seed)\n",
        "    torch.backends.cudnn.deterministic = True\n",
        "\n",
        "SEED = 999\n",
        "seed_everything(SEED)"
      ]
    },
    {
      "cell_type": "code",
      "execution_count": 52,
      "metadata": {
        "colab": {
          "base_uri": "https://localhost:8080/"
        },
        "id": "FHd060hGisZv",
        "outputId": "936d8a7c-1069-401b-d537-552b32d1e18a"
      },
      "outputs": [
        {
          "output_type": "stream",
          "name": "stdout",
          "text": [
            "Using device: cuda\n"
          ]
        }
      ],
      "source": [
        "DEVICE = torch.device(\"cuda\" if torch.cuda.is_available() else \"cpu\")\n",
        "print(f\"Using device: {DEVICE}\")"
      ]
    },
    {
      "cell_type": "markdown",
      "metadata": {
        "id": "wJ9lSyiDlzKI"
      },
      "source": [
        "# Data\n",
        "\n",
        "A clinician has rated each image for the severity of diabetic retinopathy on a scale of 0 to 4:\n",
        "- **0 - No DR**\n",
        "- **1 - Mild**\n",
        "- **2 - Moderate**\n",
        "- **3 - Severe**\n",
        "- **4 - Proliferative DR**\n",
        "\n",
        "Images may contain artifacts, be out of focus, underexposed, or overexposed. \n",
        "\n",
        "- train.csv - the training labels\n",
        "- test.csv - the test set (you must predict the diagnosis value for these variables)\n",
        "- sample_submission.csv - a sample submission file in the correct format\n",
        "- train.zip - the training set images\n",
        "- test.zip - the public test set images\n",
        "\n",
        "Dowload directly from kaggle (kaggle.json is needed for API - put it in `/content/`):"
      ]
    },
    {
      "cell_type": "code",
      "execution_count": 23,
      "metadata": {
        "id": "tx5ljyaskBh1"
      },
      "outputs": [],
      "source": [
        "! pip install kaggle\n",
        "! mkdir ~/.kaggle\n",
        "! cp kaggle.json ~/.kaggle/\n",
        "! chmod 600 ~/.kaggle/kaggle.json\n",
        "\n",
        "clear_output()"
      ]
    },
    {
      "cell_type": "code",
      "execution_count": 24,
      "metadata": {
        "colab": {
          "base_uri": "https://localhost:8080/"
        },
        "id": "lUDE9s0YlS6H",
        "outputId": "f63e2664-83fe-4068-8d57-dcc39d32b18a"
      },
      "outputs": [
        {
          "output_type": "stream",
          "name": "stdout",
          "text": [
            "Downloading aptos2019-blindness-detection.zip to /content\n",
            "100% 9.51G/9.51G [02:01<00:00, 61.1MB/s]\n",
            "100% 9.51G/9.51G [02:01<00:00, 84.0MB/s]\n"
          ]
        }
      ],
      "source": [
        "! kaggle competitions download -c aptos2019-blindness-detection"
      ]
    },
    {
      "cell_type": "code",
      "execution_count": 25,
      "metadata": {
        "id": "kS1SLhTolWm0"
      },
      "outputs": [],
      "source": [
        "! unzip aptos2019-blindness-detection\n",
        "! rm aptos2019-blindness-detection.zip\n",
        "\n",
        "clear_output()"
      ]
    },
    {
      "cell_type": "markdown",
      "metadata": {
        "id": "DjmvJHBKno8s"
      },
      "source": [
        "# EDA"
      ]
    },
    {
      "cell_type": "code",
      "execution_count": 53,
      "metadata": {
        "colab": {
          "base_uri": "https://localhost:8080/",
          "height": 363
        },
        "id": "UpMdAH2gnoKL",
        "outputId": "7ff04b1f-41f4-46a5-9747-f25fcc65e215"
      },
      "outputs": [
        {
          "output_type": "execute_result",
          "data": {
            "text/plain": [
              "   diagnosis                             path\n",
              "0          2  ./train_images/a01c590c444f.png\n",
              "1          1  ./train_images/22098b1fe461.png\n",
              "2          0  ./train_images/83a63c4a3e4a.png\n",
              "3          4  ./train_images/e821c1b6417a.png\n",
              "4          0  ./train_images/bd06028eb7dd.png\n",
              "5          3  ./train_images/6089fa333013.png\n",
              "6          2  ./train_images/9b418ce42c13.png\n",
              "7          0  ./train_images/c6a8f8f998a2.png\n",
              "8          0  ./train_images/b72f59b85f7c.png\n",
              "9          1  ./train_images/8bbd7835e9aa.png"
            ],
            "text/html": [
              "\n",
              "  <div id=\"df-3396bc57-56ea-4941-8217-59a47184fba9\">\n",
              "    <div class=\"colab-df-container\">\n",
              "      <div>\n",
              "<style scoped>\n",
              "    .dataframe tbody tr th:only-of-type {\n",
              "        vertical-align: middle;\n",
              "    }\n",
              "\n",
              "    .dataframe tbody tr th {\n",
              "        vertical-align: top;\n",
              "    }\n",
              "\n",
              "    .dataframe thead th {\n",
              "        text-align: right;\n",
              "    }\n",
              "</style>\n",
              "<table border=\"1\" class=\"dataframe\">\n",
              "  <thead>\n",
              "    <tr style=\"text-align: right;\">\n",
              "      <th></th>\n",
              "      <th>diagnosis</th>\n",
              "      <th>path</th>\n",
              "    </tr>\n",
              "  </thead>\n",
              "  <tbody>\n",
              "    <tr>\n",
              "      <th>0</th>\n",
              "      <td>2</td>\n",
              "      <td>./train_images/a01c590c444f.png</td>\n",
              "    </tr>\n",
              "    <tr>\n",
              "      <th>1</th>\n",
              "      <td>1</td>\n",
              "      <td>./train_images/22098b1fe461.png</td>\n",
              "    </tr>\n",
              "    <tr>\n",
              "      <th>2</th>\n",
              "      <td>0</td>\n",
              "      <td>./train_images/83a63c4a3e4a.png</td>\n",
              "    </tr>\n",
              "    <tr>\n",
              "      <th>3</th>\n",
              "      <td>4</td>\n",
              "      <td>./train_images/e821c1b6417a.png</td>\n",
              "    </tr>\n",
              "    <tr>\n",
              "      <th>4</th>\n",
              "      <td>0</td>\n",
              "      <td>./train_images/bd06028eb7dd.png</td>\n",
              "    </tr>\n",
              "    <tr>\n",
              "      <th>5</th>\n",
              "      <td>3</td>\n",
              "      <td>./train_images/6089fa333013.png</td>\n",
              "    </tr>\n",
              "    <tr>\n",
              "      <th>6</th>\n",
              "      <td>2</td>\n",
              "      <td>./train_images/9b418ce42c13.png</td>\n",
              "    </tr>\n",
              "    <tr>\n",
              "      <th>7</th>\n",
              "      <td>0</td>\n",
              "      <td>./train_images/c6a8f8f998a2.png</td>\n",
              "    </tr>\n",
              "    <tr>\n",
              "      <th>8</th>\n",
              "      <td>0</td>\n",
              "      <td>./train_images/b72f59b85f7c.png</td>\n",
              "    </tr>\n",
              "    <tr>\n",
              "      <th>9</th>\n",
              "      <td>1</td>\n",
              "      <td>./train_images/8bbd7835e9aa.png</td>\n",
              "    </tr>\n",
              "  </tbody>\n",
              "</table>\n",
              "</div>\n",
              "      <button class=\"colab-df-convert\" onclick=\"convertToInteractive('df-3396bc57-56ea-4941-8217-59a47184fba9')\"\n",
              "              title=\"Convert this dataframe to an interactive table.\"\n",
              "              style=\"display:none;\">\n",
              "        \n",
              "  <svg xmlns=\"http://www.w3.org/2000/svg\" height=\"24px\"viewBox=\"0 0 24 24\"\n",
              "       width=\"24px\">\n",
              "    <path d=\"M0 0h24v24H0V0z\" fill=\"none\"/>\n",
              "    <path d=\"M18.56 5.44l.94 2.06.94-2.06 2.06-.94-2.06-.94-.94-2.06-.94 2.06-2.06.94zm-11 1L8.5 8.5l.94-2.06 2.06-.94-2.06-.94L8.5 2.5l-.94 2.06-2.06.94zm10 10l.94 2.06.94-2.06 2.06-.94-2.06-.94-.94-2.06-.94 2.06-2.06.94z\"/><path d=\"M17.41 7.96l-1.37-1.37c-.4-.4-.92-.59-1.43-.59-.52 0-1.04.2-1.43.59L10.3 9.45l-7.72 7.72c-.78.78-.78 2.05 0 2.83L4 21.41c.39.39.9.59 1.41.59.51 0 1.02-.2 1.41-.59l7.78-7.78 2.81-2.81c.8-.78.8-2.07 0-2.86zM5.41 20L4 18.59l7.72-7.72 1.47 1.35L5.41 20z\"/>\n",
              "  </svg>\n",
              "      </button>\n",
              "      \n",
              "  <style>\n",
              "    .colab-df-container {\n",
              "      display:flex;\n",
              "      flex-wrap:wrap;\n",
              "      gap: 12px;\n",
              "    }\n",
              "\n",
              "    .colab-df-convert {\n",
              "      background-color: #E8F0FE;\n",
              "      border: none;\n",
              "      border-radius: 50%;\n",
              "      cursor: pointer;\n",
              "      display: none;\n",
              "      fill: #1967D2;\n",
              "      height: 32px;\n",
              "      padding: 0 0 0 0;\n",
              "      width: 32px;\n",
              "    }\n",
              "\n",
              "    .colab-df-convert:hover {\n",
              "      background-color: #E2EBFA;\n",
              "      box-shadow: 0px 1px 2px rgba(60, 64, 67, 0.3), 0px 1px 3px 1px rgba(60, 64, 67, 0.15);\n",
              "      fill: #174EA6;\n",
              "    }\n",
              "\n",
              "    [theme=dark] .colab-df-convert {\n",
              "      background-color: #3B4455;\n",
              "      fill: #D2E3FC;\n",
              "    }\n",
              "\n",
              "    [theme=dark] .colab-df-convert:hover {\n",
              "      background-color: #434B5C;\n",
              "      box-shadow: 0px 1px 3px 1px rgba(0, 0, 0, 0.15);\n",
              "      filter: drop-shadow(0px 1px 2px rgba(0, 0, 0, 0.3));\n",
              "      fill: #FFFFFF;\n",
              "    }\n",
              "  </style>\n",
              "\n",
              "      <script>\n",
              "        const buttonEl =\n",
              "          document.querySelector('#df-3396bc57-56ea-4941-8217-59a47184fba9 button.colab-df-convert');\n",
              "        buttonEl.style.display =\n",
              "          google.colab.kernel.accessAllowed ? 'block' : 'none';\n",
              "\n",
              "        async function convertToInteractive(key) {\n",
              "          const element = document.querySelector('#df-3396bc57-56ea-4941-8217-59a47184fba9');\n",
              "          const dataTable =\n",
              "            await google.colab.kernel.invokeFunction('convertToInteractive',\n",
              "                                                     [key], {});\n",
              "          if (!dataTable) return;\n",
              "\n",
              "          const docLinkHtml = 'Like what you see? Visit the ' +\n",
              "            '<a target=\"_blank\" href=https://colab.research.google.com/notebooks/data_table.ipynb>data table notebook</a>'\n",
              "            + ' to learn more about interactive tables.';\n",
              "          element.innerHTML = '';\n",
              "          dataTable['output_type'] = 'display_data';\n",
              "          await google.colab.output.renderOutput(dataTable, element);\n",
              "          const docLink = document.createElement('div');\n",
              "          docLink.innerHTML = docLinkHtml;\n",
              "          element.appendChild(docLink);\n",
              "        }\n",
              "      </script>\n",
              "    </div>\n",
              "  </div>\n",
              "  "
            ]
          },
          "metadata": {},
          "execution_count": 53
        }
      ],
      "source": [
        "train_dir = os.path.join('.','train_images/')\n",
        "df = pd.read_csv(os.path.join('.', 'train.csv'))\n",
        "\n",
        "df['path'] = df['id_code'].map(lambda x: os.path.join(train_dir,'{}.png'.format(x)))\n",
        "df = df.drop(columns=['id_code'])\n",
        "df = df.sample(frac=1).reset_index(drop=True) #shuffle dataframe\n",
        "\n",
        "df.head(10)"
      ]
    },
    {
      "cell_type": "code",
      "execution_count": null,
      "metadata": {
        "id": "2n4Vww12m3jz"
      },
      "outputs": [],
      "source": [
        "len_df = len(df)\n",
        "print(f\"There are {len_df} images in df.\")"
      ]
    },
    {
      "cell_type": "markdown",
      "metadata": {
        "id": "a1MDAOu7o7mk"
      },
      "source": [
        "The dataset is highly imbalanced, with many samples for level 0, and very little for the rest of the levels."
      ]
    },
    {
      "cell_type": "code",
      "execution_count": null,
      "metadata": {
        "id": "nmp-q5fxhmHp"
      },
      "outputs": [],
      "source": [
        "df.diagnosis.value_counts() "
      ]
    },
    {
      "cell_type": "code",
      "execution_count": null,
      "metadata": {
        "colab": {
          "base_uri": "https://localhost:8080/",
          "height": 337
        },
        "id": "cPd79nLUosWj",
        "outputId": "8d342209-8552-41c8-a023-c60e13ddbd38"
      },
      "outputs": [
        {
          "data": {
            "text/plain": [
              "<matplotlib.axes._subplots.AxesSubplot at 0x7fc8598d0e90>"
            ]
          },
          "execution_count": 14,
          "metadata": {},
          "output_type": "execute_result"
        },
        {
          "data": {
            "image/png": "[encoded data removed]",
            "text/plain": [
              "<Figure size 720x360 with 1 Axes>"
            ]
          },
          "metadata": {},
          "output_type": "display_data"
        }
      ],
      "source": [
        "df['diagnosis'].hist(figsize = (10, 5))"
      ]
    },
    {
      "cell_type": "markdown",
      "metadata": {
        "id": "OOsGoYzapL6y"
      },
      "source": [
        "Example image:"
      ]
    },
    {
      "cell_type": "code",
      "execution_count": null,
      "metadata": {
        "colab": {
          "base_uri": "https://localhost:8080/"
        },
        "id": "8FJs4Uiao9As",
        "outputId": "29dd3171-35ea-4706-fb2c-f34005b24cac"
      },
      "outputs": [
        {
          "name": "stdout",
          "output_type": "stream",
          "text": [
            "2896 1944\n"
          ]
        }
      ],
      "source": [
        "im = Image.open(df['path'][1])\n",
        "width, height = im.size\n",
        "print(width,height) \n",
        "im.show()"
      ]
    },
    {
      "cell_type": "code",
      "execution_count": null,
      "metadata": {
        "colab": {
          "base_uri": "https://localhost:8080/",
          "height": 286
        },
        "id": "YtSNfQVVpIub",
        "outputId": "09ce345a-f423-4f9b-fb5b-75903b38f251"
      },
      "outputs": [
        {
          "data": {
            "text/plain": [
              "<matplotlib.image.AxesImage at 0x7fc852121990>"
            ]
          },
          "execution_count": 16,
          "metadata": {},
          "output_type": "execute_result"
        },
        {
          "data": {
            "image/png": "[encoded data removed]",
            "text/plain": [
              "<Figure size 432x288 with 1 Axes>"
            ]
          },
          "metadata": {},
          "output_type": "display_data"
        }
      ],
      "source": [
        "plt.imshow(np.asarray(im))"
      ]
    },
    {
      "cell_type": "markdown",
      "metadata": {
        "id": "4e8lueNmnlke"
      },
      "source": [
        "Is the number of chanels always 3? - yes"
      ]
    },
    {
      "cell_type": "code",
      "execution_count": null,
      "metadata": {
        "id": "dCfenI1gmadW"
      },
      "outputs": [],
      "source": [
        "# long run\n",
        "for i in range(len_df):\n",
        "    img = np.array(Image.open(df['path'][i])).shape\n",
        "    \n",
        "    if img[2] != 3:\n",
        "      print(img)"
      ]
    },
    {
      "cell_type": "markdown",
      "metadata": {
        "id": "MzYKkNInwPO1"
      },
      "source": [
        "# Load data"
      ]
    },
    {
      "cell_type": "code",
      "execution_count": 54,
      "metadata": {
        "id": "n-ku1Acu0MQb"
      },
      "outputs": [],
      "source": [
        "from torch.utils.data import Dataset, DataLoader\n",
        "from torchvision import transforms, datasets\n",
        "from sklearn.model_selection import train_test_split"
      ]
    },
    {
      "cell_type": "code",
      "execution_count": 55,
      "metadata": {
        "id": "1nj4mh1-0RPn"
      },
      "outputs": [],
      "source": [
        "RESCALE_SIZE = 224, 224\n",
        "BATCH_SIZE = 64\n",
        "\n",
        "import matplotlib.pyplot as plt\n",
        "plt.rcParams[\"figure.figsize\"] = 15, 10"
      ]
    },
    {
      "cell_type": "code",
      "execution_count": 56,
      "metadata": {
        "id": "HqSf3QygzZ_M"
      },
      "outputs": [],
      "source": [
        "train_df, val_df = train_test_split(df, test_size=0.25,\n",
        "                                    stratify=df.diagnosis)\n",
        "\n",
        "train_df.reset_index(inplace=True)\n",
        "val_df.reset_index(inplace=True)"
      ]
    },
    {
      "cell_type": "code",
      "execution_count": 57,
      "metadata": {
        "id": "ANf7S-Nq4ssP"
      },
      "outputs": [],
      "source": [
        "class BlindDataset(Dataset):\n",
        "    def __init__(self, df, mode=\"train\") -> None:\n",
        "        super().__init__()\n",
        "\n",
        "        self.df = df\n",
        "        self.len_ = len(self.df.path)\n",
        "        self.mode = mode\n",
        "\n",
        "    def __len__(self):\n",
        "        return self.len_\n",
        "\n",
        "    def load_sample(self, file):\n",
        "        image = Image.open(file)\n",
        "        image.load()\n",
        "        return image\n",
        "\n",
        "    def __getitem__(self, index):\n",
        "        if self.mode == \"train\":\n",
        "            transform = transforms.Compose([\n",
        "                transforms.Resize(RESCALE_SIZE),\n",
        "                transforms.RandomHorizontalFlip(p=0.5),\n",
        "                transforms.RandomVerticalFlip(p=0.5),\n",
        "                transforms.ToTensor(),\n",
        "                transforms.Normalize([0.3056, 0.1627, 0.0532], \n",
        "                                     [0.2992, 0.1616, 0.0764]),\n",
        "            ])\n",
        "        \n",
        "        else:\n",
        "            transform = transforms.Compose([\n",
        "                transforms.Resize(RESCALE_SIZE),\n",
        "                transforms.ToTensor(),\n",
        "                transforms.Normalize([0.3056, 0.1627, 0.0532], \n",
        "                                     [0.2992, 0.1616, 0.0764]),\n",
        "            ])\n",
        "\n",
        "        tensor_image = self.load_sample(self.df.path[index])\n",
        "        tensor_image = transform(tensor_image)\n",
        "\n",
        "        if self.mode != 'test':\n",
        "            return tensor_image, self.df.diagnosis[index]\n",
        "        else:\n",
        "            return tensor_image\n",
        "        "
      ]
    },
    {
      "cell_type": "code",
      "execution_count": 58,
      "metadata": {
        "id": "wgP2NIf4ua_h"
      },
      "outputs": [],
      "source": [
        "from collections import Counter\n",
        "from torch.utils.data.sampler import WeightedRandomSampler\n",
        "\n",
        "class_numbers = Counter(train_df.diagnosis)\n",
        "samples_weight = torch.tensor([1 / class_numbers[i] for i in train_df.diagnosis])"
      ]
    },
    {
      "cell_type": "code",
      "execution_count": 59,
      "metadata": {
        "id": "f_VenTs649Sm"
      },
      "outputs": [],
      "source": [
        "trainset = BlindDataset(train_df)\n",
        "valset = BlindDataset(val_df, mode=\"val\")\n",
        "\n",
        "sampler = WeightedRandomSampler(samples_weight.type(\"torch.DoubleTensor\"), len(samples_weight))\n",
        "\n",
        "trainloader = DataLoader(trainset, batch_size=BATCH_SIZE, \n",
        "                         #sampler=sampler,\n",
        "                         shuffle=True, \n",
        "                         )\n",
        "valloader = DataLoader(valset, batch_size=BATCH_SIZE, shuffle=False)"
      ]
    },
    {
      "cell_type": "markdown",
      "metadata": {
        "id": "v5mPOSP-5XH9"
      },
      "source": [
        "Расчет параметров для transforms.Normalize:"
      ]
    },
    {
      "cell_type": "code",
      "execution_count": null,
      "metadata": {
        "id": "Fk-hUy40Uh-M"
      },
      "outputs": [],
      "source": [
        "from tqdm import tqdm\n",
        "\n",
        "psum    = torch.tensor([0.0, 0.0, 0.0])\n",
        "psum_sq = torch.tensor([0.0, 0.0, 0.0])\n",
        "\n",
        "# loop through images\n",
        "for inputs, y in tqdm(trainloader):\n",
        "    psum    += inputs.sum(axis        = [0, 2, 3])\n",
        "    psum_sq += (inputs ** 2).sum(axis = [0, 2, 3])\n",
        "\n",
        "# pixel count\n",
        "count = len(df) * RESCALE_SIZE[0] * RESCALE_SIZE[0]\n",
        "\n",
        "# mean and std\n",
        "total_mean = psum / count\n",
        "total_var  = (psum_sq / count) - (total_mean ** 2)\n",
        "total_std  = torch.sqrt(total_var)\n",
        "\n",
        "# output\n",
        "print('mean: '  + str(total_mean))\n",
        "print('std:  '  + str(total_std))\n",
        "\n",
        "# 224x224:\n",
        "#mean: tensor([0.3056, 0.1627, 0.0532])\n",
        "#std:  tensor([0.2992, 0.1616, 0.0764])\n",
        "\n",
        "# 728x728: \n",
        "#mean: tensor([0.3056, 0.1627, 0.0532])\n",
        "#std:  tensor([0.2997, 0.1620, 0.0768])\n",
        "\n",
        "# 450x450:\n",
        "# mean: tensor([0.3057, 0.1628, 0.0533])\n",
        "# std:  tensor([0.2996, 0.1619, 0.0766])"
      ]
    },
    {
      "cell_type": "markdown",
      "metadata": {
        "id": "hPKqyYU5900X"
      },
      "source": [
        "### Класс для тренировки и валидации"
      ]
    },
    {
      "cell_type": "code",
      "execution_count": 60,
      "metadata": {
        "id": "sK_yxkZN95cK"
      },
      "outputs": [],
      "source": [
        "class Trainer:\n",
        "    def __init__(self, model, epochs, criterion,\n",
        "                 optimizer, trainloader,\n",
        "                 validloader, device, metric,\n",
        "                 validate=True, scheduler=None,\n",
        "                 verbose=2):\n",
        "      \n",
        "        self.model = model.to(device)\n",
        "        self.epochs = epochs\n",
        "        self.criterion = criterion\n",
        "        self.optimizer = optimizer\n",
        "        self.trainloader = trainloader\n",
        "        self.validloader = validloader\n",
        "        self.device = device\n",
        "        self.metric = metric\n",
        "        self.validate = validate\n",
        "        self.verbose = verbose\n",
        "        self.scheduler = scheduler\n",
        "        self.get_probs = nn.Softmax(dim=0)\n",
        "        self.train_losses = []\n",
        "        self.valid_losses = []\n",
        "        self.train_metrics = []\n",
        "        self.valid_metrics = []\n",
        "\n",
        "    def fit(self, epochs=None):\n",
        "        if epochs is None:\n",
        "            epochs = self.epochs\n",
        "\n",
        "        for epoch in range(epochs):\n",
        "            train_loss, train_metric = self._train(self.trainloader)\n",
        "            self.train_losses.append(train_loss)\n",
        "            self.train_metrics.append(train_metric)\n",
        "\n",
        "            if self.validate:\n",
        "                val_loss, val_metric = self._validate(self.validloader)\n",
        "                self.valid_losses.append(val_loss)\n",
        "                self.valid_metrics.append(val_metric)\n",
        "\n",
        "                if self.scheduler is not None:\n",
        "                    self.scheduler.step(val_loss)\n",
        "            else:\n",
        "                val_loss = \"NO\"\n",
        "\n",
        "            if self.verbose > 0:\n",
        "                print()\n",
        "                print(f\"Epoch {epoch+1} out of {epochs}: Train loss = {train_loss}, validation loss = {val_loss} \\n\\\n",
        "                                         Train metric = {train_metric}, validation metric = {val_metric}\")\n",
        "                print()\n",
        "        \n",
        "        return self\n",
        "\n",
        "    def _train(self, loader):\n",
        "        self.model.train()\n",
        "        epoch_loss = 0\n",
        "        epoch_preds = []\n",
        "        epoch_targets = []\n",
        "        for i, (inputs, targets) in enumerate(loader):\n",
        "            inputs, targets = inputs.to(self.device), targets.to(self.device)\n",
        "            out = self.model(inputs)\n",
        "            loss = self.criterion(out, targets)\n",
        "            epoch_loss += loss.item()\n",
        "            self.optimizer.zero_grad()\n",
        "            loss.backward()\n",
        "\n",
        "            if self.verbose > 1:\n",
        "                print(f\"\\rTraining: batch {i+1} out of {len(loader)}\", end=\"\")\n",
        "\n",
        "            self.optimizer.step()\n",
        "\n",
        "            out = self.get_probs(out)\n",
        "            _, preds = torch.max(out.data, 1)\n",
        "            epoch_preds += list(preds.cpu())\n",
        "            epoch_targets += list(targets.detach().cpu())\n",
        "\n",
        "            self._clear_vram(inputs, targets, out)\n",
        "\n",
        "        epoch_loss = epoch_loss/len(loader)\n",
        "        epoch_metric = self.metric(epoch_targets, epoch_preds)\n",
        "        print(\"\\n\", end=\"\")\n",
        "\n",
        "        return epoch_loss, epoch_metric\n",
        "\n",
        "    def _validate(self, loader):\n",
        "        self.model.eval()\n",
        "        epoch_loss = 0\n",
        "        epoch_preds = []\n",
        "        epoch_targets = []\n",
        "        with torch.no_grad():\n",
        "            for i, (inputs, targets) in enumerate(loader):\n",
        "                inputs, targets = inputs.to(self.device), targets.to(self.device)              \n",
        "                out = self.model(inputs)\n",
        "                loss = self.criterion(out, targets)\n",
        "\n",
        "                if self.verbose > 1:\n",
        "                    print(f\"\\rValidation: batch {i+1} out of {len(loader)}\", end=\"\")\n",
        "\n",
        "                epoch_loss += loss.item()\n",
        "                out = self.get_probs(out)\n",
        "                _, preds = torch.max(out.data, 1)\n",
        "                epoch_preds += list(preds.cpu())\n",
        "                epoch_targets += list(targets.detach().cpu())\n",
        "\n",
        "                self._clear_vram(inputs, targets, out)\n",
        "\n",
        "        epoch_loss = epoch_loss/len(loader)\n",
        "        epoch_metric = self.metric(epoch_targets, epoch_preds)\n",
        "        print(\"\\n\", end=\"\")\n",
        "\n",
        "        return epoch_loss, epoch_metric\n",
        "    \n",
        "    def _clear_vram(self, inputs, labels, outputs):\n",
        "        inputs = inputs.to(\"cpu\")\n",
        "        labels = labels.to(\"cpu\")\n",
        "        outputs = outputs.to(\"cpu\")\n",
        "        del inputs, labels, outputs\n",
        "        torch.cuda.empty_cache()"
      ]
    },
    {
      "cell_type": "code",
      "execution_count": 61,
      "metadata": {
        "id": "nVDxA5YJ9_bM"
      },
      "outputs": [],
      "source": [
        "def predict(model, loader, mod='val'):\n",
        "    model.eval()\n",
        "    predictions = []\n",
        "    targ = []\n",
        "\n",
        "    with torch.no_grad():\n",
        "        if mod == 'val':\n",
        "            for i, (inputs, targets) in enumerate(loader):\n",
        "                inputs, targets = inputs.to(DEVICE), targets.to(DEVICE)              \n",
        "                out = model(inputs)\n",
        "                out = nn.functional.softmax(out, dim=-1)\n",
        "                _, preds = torch.max(out.data, 1)\n",
        "                predictions += list(preds)\n",
        "                targ += list(targets)\n",
        "            return predictions, targ\n",
        "\n",
        "        else:\n",
        "            for i, inputs in enumerate(loader):\n",
        "                inputs = inputs.to(DEVICE)\n",
        "                out = model(inputs)\n",
        "                out = nn.functional.softmax(out, dim=-1)\n",
        "                _, preds = torch.max(out.data, 1)\n",
        "                predictions += list(preds)\n",
        "            return predictions\n",
        "\n",
        "\n",
        "def calculate_metric(model, loader, metric=None):\n",
        "    if metric is None:\n",
        "        metric = accuracy_score\n",
        "    \n",
        "    preds, targets = predict(model, loader)\n",
        "    preds = [i.item() for i in preds]\n",
        "    targets = [i.item() for i in targets]\n",
        "\n",
        "    return metric(targets, preds)"
      ]
    },
    {
      "cell_type": "markdown",
      "metadata": {
        "id": "iAkOyTrt8eP9"
      },
      "source": [
        "# vgg19"
      ]
    },
    {
      "cell_type": "code",
      "execution_count": 18,
      "metadata": {
        "id": "10CKVcoW86m4"
      },
      "outputs": [],
      "source": [
        "import torchvision\n",
        "from torch import nn"
      ]
    },
    {
      "cell_type": "code",
      "execution_count": 19,
      "metadata": {
        "id": "ui1Exlvpvisa"
      },
      "outputs": [],
      "source": [
        "model = torchvision.models.vgg19_bn(pretrained=True)"
      ]
    },
    {
      "cell_type": "code",
      "execution_count": 20,
      "metadata": {
        "id": "uC6AI9t_81BI"
      },
      "outputs": [],
      "source": [
        "N_CLASSES = 5\n",
        "num_features = 4096\n",
        "model.classifier[6] = nn.Linear(num_features, N_CLASSES)\n",
        "\n",
        "model = model.to(DEVICE)"
      ]
    },
    {
      "cell_type": "code",
      "execution_count": 21,
      "metadata": {
        "id": "FDquzraD89Td"
      },
      "outputs": [],
      "source": [
        "criterion = nn.CrossEntropyLoss()\n",
        "optimizer = torch.optim.Adam(model.parameters(), lr=0.001)\n",
        "scheduler = torch.optim.lr_scheduler.ReduceLROnPlateau(optimizer=optimizer, patience=3, factor=0.5)"
      ]
    },
    {
      "cell_type": "code",
      "execution_count": 22,
      "metadata": {
        "colab": {
          "base_uri": "https://localhost:8080/"
        },
        "id": "Ct3c16Qe89WR",
        "outputId": "a4aad6b4-32ce-4137-ee30-dcf77fec62d1"
      },
      "outputs": [
        {
          "output_type": "stream",
          "name": "stdout",
          "text": [
            "Training: batch 43 out of 43\n",
            "Validation: batch 15 out of 15\n",
            "\n",
            "Epoch 1 out of 8: Train loss = 1.0442546162494393, validation loss = 0.9987798968950907 \n",
            "                                         Train metric = 0.23306627822286963, validation metric = 0.2445414847161572\n",
            "\n",
            "Training: batch 43 out of 43\n",
            "Validation: batch 15 out of 15\n",
            "\n",
            "Epoch 2 out of 8: Train loss = 0.8517160970111226, validation loss = 0.810299030939738 \n",
            "                                         Train metric = 0.23634377276037874, validation metric = 0.25436681222707425\n",
            "\n",
            "Training: batch 43 out of 43\n",
            "Validation: batch 15 out of 15\n",
            "\n",
            "Epoch 3 out of 8: Train loss = 0.8677684692449348, validation loss = 0.8745779494444529 \n",
            "                                         Train metric = 0.21704297159504735, validation metric = 0.212882096069869\n",
            "\n",
            "Training: batch 43 out of 43\n",
            "Validation: batch 15 out of 15\n",
            "\n",
            "Epoch 4 out of 8: Train loss = 0.8281515587207883, validation loss = 1.3735697905222575 \n",
            "                                         Train metric = 0.2188638018936635, validation metric = 0.2718340611353712\n",
            "\n",
            "Training: batch 43 out of 43\n",
            "Validation: batch 15 out of 15\n",
            "\n",
            "Epoch 5 out of 8: Train loss = 0.8092698039010514, validation loss = 0.807214637597402 \n",
            "                                         Train metric = 0.20101966496722506, validation metric = 0.16266375545851527\n",
            "\n",
            "Training: batch 43 out of 43\n",
            "Validation: batch 15 out of 15\n",
            "\n",
            "Epoch 6 out of 8: Train loss = 0.7564709158830865, validation loss = 0.8198394536972046 \n",
            "                                         Train metric = 0.19264384559359068, validation metric = 0.19323144104803494\n",
            "\n",
            "Training: batch 43 out of 43\n",
            "Validation: batch 15 out of 15\n",
            "\n",
            "Epoch 7 out of 8: Train loss = 0.7086846329445062, validation loss = 0.6787062466144562 \n",
            "                                         Train metric = 0.2327021121631464, validation metric = 0.2652838427947598\n",
            "\n",
            "Training: batch 43 out of 43\n",
            "Validation: batch 15 out of 15\n",
            "\n",
            "Epoch 8 out of 8: Train loss = 0.6645394723082698, validation loss = 0.6741419434547424 \n",
            "                                         Train metric = 0.21631463947560087, validation metric = 0.2554585152838428\n",
            "\n"
          ]
        },
        {
          "output_type": "execute_result",
          "data": {
            "text/plain": [
              "<__main__.Trainer at 0x7efd2e0fdf50>"
            ]
          },
          "metadata": {},
          "execution_count": 22
        }
      ],
      "source": [
        "trainer = Trainer(model, 8, criterion, optimizer, trainloader, valloader, \n",
        "                  DEVICE, accuracy_score,\n",
        "                  scheduler=scheduler)\n",
        "trainer.fit()"
      ]
    },
    {
      "cell_type": "code",
      "execution_count": 23,
      "metadata": {
        "id": "txez1S6R89Yt",
        "colab": {
          "base_uri": "https://localhost:8080/",
          "height": 592
        },
        "outputId": "d0b80ec8-97f2-4175-8e98-f45c25e4740d"
      },
      "outputs": [
        {
          "output_type": "display_data",
          "data": {
            "text/plain": [
              "<Figure size 1080x720 with 1 Axes>"
            ],
            "image/png": "[encoded data removed]"
          },
          "metadata": {
            "needs_background": "light"
          }
        }
      ],
      "source": [
        "sns.lineplot(y=trainer.train_losses, x=range(1, 9), label=\"Train\")\n",
        "sns.lineplot(y=trainer.valid_losses, x=range(1, 9), label=\"Validation\")\n",
        "\n",
        "plt.show()"
      ]
    },
    {
      "cell_type": "code",
      "execution_count": 24,
      "metadata": {
        "id": "ciHFxZIORw2j"
      },
      "outputs": [],
      "source": [
        "# save model\n",
        "torch.save(model.state_dict(), '/content/drive/MyDrive/models/vgg19_fin.txt')"
      ]
    },
    {
      "cell_type": "code",
      "execution_count": 25,
      "metadata": {
        "id": "naVXrX_Uviws"
      },
      "outputs": [],
      "source": [
        "from functools import partial\n",
        "\n",
        "f1_macro = partial(f1_score, average=\"macro\")\n",
        "f1_micro = partial(f1_score, average=\"micro\")"
      ]
    },
    {
      "cell_type": "code",
      "execution_count": 26,
      "metadata": {
        "id": "zNcAZqwsviui",
        "colab": {
          "base_uri": "https://localhost:8080/"
        },
        "outputId": "371854de-f6be-4d11-e034-9b7e5d12593a"
      },
      "outputs": [
        {
          "output_type": "execute_result",
          "data": {
            "text/plain": [
              "0.75764192139738"
            ]
          },
          "metadata": {},
          "execution_count": 26
        }
      ],
      "source": [
        "calculate_metric(model, valloader)\n",
        "#224x224 batch 64 - .8024017467248908\n",
        "# тоже, только без шаффла 0.7150655021834061"
      ]
    },
    {
      "cell_type": "code",
      "execution_count": null,
      "metadata": {
        "id": "iI7ao-4sviyt"
      },
      "outputs": [],
      "source": [
        "calculate_metric(model, valloader, f1_macro)\n",
        "#224x224 batch 64 - .5190434141012477\n",
        "# тоже, только без шаффла 0.5748944091876842"
      ]
    },
    {
      "cell_type": "code",
      "execution_count": 28,
      "metadata": {
        "id": "hahjZ55Gvi01",
        "colab": {
          "base_uri": "https://localhost:8080/"
        },
        "outputId": "1cfe26db-71a4-475f-bce9-00ab7cd96279"
      },
      "outputs": [
        {
          "data": {
            "text/plain": [
              "0.75764192139738"
            ]
          },
          "execution_count": null,
          "metadata": {},
          "output_type": "execute_result"
        }
      ],
      "source": [
        "calculate_metric(model, valloader, f1_micro)\n",
        "#224x224 batch 64 - 0.8024017467248908\n",
        "# тоже, только без шаффла "
      ]
    },
    {
      "cell_type": "code",
      "execution_count": 24,
      "metadata": {
        "id": "vBsOLVr_znJP"
      },
      "outputs": [],
      "source": [
        "del trainer\n",
        "del model\n",
        "\n",
        "torch.cuda.empty_cache()\n",
        "torch.cuda.synchronize()"
      ]
    },
    {
      "cell_type": "markdown",
      "metadata": {
        "id": "73uyb_C-HJZW"
      },
      "source": [
        "# DenseNet169"
      ]
    },
    {
      "cell_type": "code",
      "execution_count": 70,
      "metadata": {
        "id": "C3pPz33Tukhq"
      },
      "outputs": [],
      "source": [
        "model = torchvision.models.densenet169(pretrained=True)"
      ]
    },
    {
      "cell_type": "code",
      "execution_count": 71,
      "metadata": {
        "id": "PJsBcwG9OIlm"
      },
      "outputs": [],
      "source": [
        "N_CLASSES = 5\n",
        "num_features = 1664\n",
        "model.classifier = nn.Linear(num_features, N_CLASSES)\n",
        "model = model.to(DEVICE)"
      ]
    },
    {
      "cell_type": "code",
      "execution_count": 72,
      "metadata": {
        "id": "xvzA6moFOIoS",
        "colab": {
          "base_uri": "https://localhost:8080/"
        },
        "outputId": "4fc3b88a-3620-4698-ee5d-ad05d32145aa"
      },
      "outputs": [
        {
          "output_type": "stream",
          "name": "stdout",
          "text": [
            "Training: batch 43 out of 43\n",
            "Validation: batch 15 out of 15\n",
            "\n",
            "Epoch 1 out of 15: Train loss = 0.7173430531523949, validation loss = 0.6675484855969747 \n",
            "                                         Train metric = 0.43335761107064824, validation metric = 0.37882096069869\n",
            "\n",
            "Training: batch 43 out of 43\n",
            "Validation: batch 15 out of 15\n",
            "\n",
            "Epoch 2 out of 15: Train loss = 0.5251290791256483, validation loss = 0.686632490158081 \n",
            "                                         Train metric = 0.48943918426802624, validation metric = 0.5589519650655022\n",
            "\n",
            "Training: batch 43 out of 43\n",
            "Validation: batch 15 out of 15\n",
            "\n",
            "Epoch 3 out of 15: Train loss = 0.5019472040409265, validation loss = 0.5110388199488322 \n",
            "                                         Train metric = 0.5728332119446468, validation metric = 0.5054585152838428\n",
            "\n",
            "Training: batch 43 out of 43\n",
            "Validation: batch 15 out of 15\n",
            "\n",
            "Epoch 4 out of 15: Train loss = 0.47127643158269483, validation loss = 0.48858435948689777 \n",
            "                                         Train metric = 0.577931536780772, validation metric = 0.5633187772925764\n",
            "\n",
            "Training: batch 43 out of 43\n",
            "Validation: batch 15 out of 15\n",
            "\n",
            "Epoch 5 out of 15: Train loss = 0.42851597140001696, validation loss = 0.5124750634034475 \n",
            "                                         Train metric = 0.5418790968681719, validation metric = 0.5982532751091703\n",
            "\n",
            "Training: batch 43 out of 43\n",
            "Validation: batch 15 out of 15\n",
            "\n",
            "Epoch 6 out of 15: Train loss = 0.417043074965477, validation loss = 0.46092968980471294 \n",
            "                                         Train metric = 0.551347414420976, validation metric = 0.4519650655021834\n",
            "\n",
            "Training: batch 43 out of 43\n",
            "Validation: batch 15 out of 15\n",
            "\n",
            "Epoch 7 out of 15: Train loss = 0.39110899040865343, validation loss = 0.45550087491671243 \n",
            "                                         Train metric = 0.5469774217042972, validation metric = 0.4705240174672489\n",
            "\n",
            "Training: batch 43 out of 43\n",
            "Validation: batch 15 out of 15\n",
            "\n",
            "Epoch 8 out of 15: Train loss = 0.3832545176494953, validation loss = 0.4162014146645864 \n",
            "                                         Train metric = 0.5400582665695557, validation metric = 0.5043668122270742\n",
            "\n",
            "Training: batch 43 out of 43\n",
            "Validation: batch 15 out of 15\n",
            "\n",
            "Epoch 9 out of 15: Train loss = 0.3760263722303302, validation loss = 0.7983096738656362 \n",
            "                                         Train metric = 0.6067006554989075, validation metric = 0.5502183406113537\n",
            "\n",
            "Training: batch 43 out of 43\n",
            "Validation: batch 15 out of 15\n",
            "\n",
            "Epoch 10 out of 15: Train loss = 0.3707675563041554, validation loss = 0.5356959581375123 \n",
            "                                         Train metric = 0.5495265841223598, validation metric = 0.45524017467248906\n",
            "\n",
            "Training: batch 43 out of 43\n",
            "Validation: batch 15 out of 15\n",
            "\n",
            "Epoch 11 out of 15: Train loss = 0.34026587182699247, validation loss = 0.5329354623953502 \n",
            "                                         Train metric = 0.5702840495265841, validation metric = 0.722707423580786\n",
            "\n",
            "Training: batch 43 out of 43\n",
            "Validation: batch 15 out of 15\n",
            "\n",
            "Epoch 12 out of 15: Train loss = 0.31841224085452946, validation loss = 0.44020478924115497 \n",
            "                                         Train metric = 0.640203932993445, validation metric = 0.5720524017467249\n",
            "\n",
            "Training: batch 43 out of 43\n",
            "Validation: batch 15 out of 15\n",
            "\n",
            "Epoch 13 out of 15: Train loss = 0.2655965737825216, validation loss = 0.41479792396227516 \n",
            "                                         Train metric = 0.6689730517115805, validation metric = 0.6768558951965066\n",
            "\n",
            "Training: batch 43 out of 43\n",
            "Validation: batch 15 out of 15\n",
            "\n",
            "Epoch 14 out of 15: Train loss = 0.21597498274126717, validation loss = 0.43046777149041493 \n",
            "                                         Train metric = 0.7428987618353969, validation metric = 0.5927947598253275\n",
            "\n",
            "Training: batch 43 out of 43\n",
            "Validation: batch 15 out of 15\n",
            "\n",
            "Epoch 15 out of 15: Train loss = 0.21023625793845155, validation loss = 0.5469517489274343 \n",
            "                                         Train metric = 0.7530954115076475, validation metric = 0.6069868995633187\n",
            "\n"
          ]
        },
        {
          "output_type": "execute_result",
          "data": {
            "text/plain": [
              "<__main__.Trainer at 0x7efcb88eddd0>"
            ]
          },
          "metadata": {},
          "execution_count": 72
        }
      ],
      "source": [
        "criterion = nn.CrossEntropyLoss()\n",
        "optimizer = torch.optim.Adam(model.parameters(), lr=0.001)\n",
        "scheduler = torch.optim.lr_scheduler.ReduceLROnPlateau(optimizer=optimizer, patience=3, factor=0.5)\n",
        "\n",
        "trainer = Trainer(model, 15, criterion, optimizer, trainloader, valloader, \n",
        "                  DEVICE, accuracy_score,\n",
        "                  scheduler=scheduler)\n",
        "trainer.fit()"
      ]
    },
    {
      "cell_type": "code",
      "execution_count": 73,
      "metadata": {
        "id": "fJ35N-9tOIrC",
        "colab": {
          "base_uri": "https://localhost:8080/",
          "height": 592
        },
        "outputId": "96134a83-66f1-4441-f2b9-dffd119ca935"
      },
      "outputs": [
        {
          "output_type": "display_data",
          "data": {
            "text/plain": [
              "<Figure size 1080x720 with 1 Axes>"
            ],
            "image/png": "[encoded data removed]"
          },
          "metadata": {
            "needs_background": "light"
          }
        }
      ],
      "source": [
        "sns.lineplot(y=trainer.train_losses, x=range(1, 16), label=\"Train\")\n",
        "sns.lineplot(y=trainer.valid_losses, x=range(1, 16), label=\"Validation\")\n",
        "\n",
        "plt.show()"
      ]
    },
    {
      "cell_type": "code",
      "execution_count": 74,
      "metadata": {
        "id": "iCxNlpqKOItr",
        "colab": {
          "base_uri": "https://localhost:8080/"
        },
        "outputId": "cac833e0-a915-4a0a-915c-b363c5b9e1a9"
      },
      "outputs": [
        {
          "output_type": "execute_result",
          "data": {
            "text/plain": [
              "0.8198689956331878"
            ]
          },
          "metadata": {},
          "execution_count": 74
        }
      ],
      "source": [
        "calculate_metric(model, valloader)\n",
        "#224x224 batch 64 - 0.8144104803493449\n",
        "# тоже, только без шаффла 0.7641921397379913"
      ]
    },
    {
      "cell_type": "code",
      "execution_count": 75,
      "metadata": {
        "id": "7J4gdLwqP5aI",
        "colab": {
          "base_uri": "https://localhost:8080/"
        },
        "outputId": "2ed78ff2-fd0f-427a-eceb-a88e59477e25"
      },
      "outputs": [
        {
          "output_type": "execute_result",
          "data": {
            "text/plain": [
              "0.6860002819204131"
            ]
          },
          "metadata": {},
          "execution_count": 75
        }
      ],
      "source": [
        "calculate_metric(model, valloader, f1_macro)\n",
        "#224x224 batch 64 - 0.6560790065258206\n",
        "# тоже, только без шаффла 0.6223088864604981"
      ]
    },
    {
      "cell_type": "code",
      "execution_count": 76,
      "metadata": {
        "id": "MHOMir46P5d0",
        "colab": {
          "base_uri": "https://localhost:8080/"
        },
        "outputId": "7cd6f7e1-5cf6-4db3-b1cb-ef61cc376249"
      },
      "outputs": [
        {
          "output_type": "execute_result",
          "data": {
            "text/plain": [
              "0.8198689956331879"
            ]
          },
          "metadata": {},
          "execution_count": 76
        }
      ],
      "source": [
        "calculate_metric(model, valloader, f1_micro)\n",
        "#224x224 batch 64 - 0.8144104803493449\n",
        "# тоже, только без шаффла 0.7641921397379913"
      ]
    },
    {
      "cell_type": "code",
      "execution_count": 77,
      "metadata": {
        "id": "XitZfxB_SlVj"
      },
      "outputs": [],
      "source": [
        "# save model\n",
        "torch.save(model.state_dict(), '/content/drive/MyDrive/models/densnet169.txt')"
      ]
    },
    {
      "cell_type": "code",
      "execution_count": 78,
      "metadata": {
        "id": "bu55reUMz2-K"
      },
      "outputs": [],
      "source": [
        "del trainer\n",
        "del model\n",
        "\n",
        "torch.cuda.empty_cache()\n",
        "torch.cuda.synchronize()"
      ]
    },
    {
      "cell_type": "markdown",
      "metadata": {
        "id": "ArnnddolOqbm"
      },
      "source": [
        "# DenseNet201"
      ]
    },
    {
      "cell_type": "code",
      "execution_count": 31,
      "metadata": {
        "id": "SQfrX2wYOrcf",
        "colab": {
          "base_uri": "https://localhost:8080/",
          "height": 66,
          "referenced_widgets": [
            "2e2eef1e57ee4adf8818f51787c7d18f",
            "ec8bbd4a254346ffa863393925ed3dfe",
            "b0395995fdd947faaeb45b5f1aa5998b",
            "bde7d9f149144a629b33b60ad3ccd2aa",
            "ae3f2440cc7440de936d5a7c0e2883f2",
            "b5b6ec56f8a1412fa8e813cc1c3f672f",
            "ba01faba52a4433594decfba70157cf6",
            "1789baef28f04e1186f7eb7d12776599",
            "c232c49be2184e048ebddce375b0a4f2",
            "8074efd02ab24d20bae2ef72bad9ab71",
            "9d316d728cd246a6bae3f0bf11d12be4"
          ]
        },
        "outputId": "6cd5a2b7-37ae-4c04-da6e-685de1278606"
      },
      "outputs": [
        {
          "output_type": "stream",
          "name": "stderr",
          "text": [
            "Downloading: \"https://download.pytorch.org/models/densenet201-c1103571.pth\" to /root/.cache/torch/hub/checkpoints/densenet201-c1103571.pth\n"
          ]
        },
        {
          "output_type": "display_data",
          "data": {
            "text/plain": [
              "  0%|          | 0.00/77.4M [00:00<?, ?B/s]"
            ],
            "application/vnd.jupyter.widget-view+json": {
              "version_major": 2,
              "version_minor": 0,
              "model_id": "2e2eef1e57ee4adf8818f51787c7d18f"
            }
          },
          "metadata": {}
        }
      ],
      "source": [
        "model = torchvision.models.densenet201(pretrained=True)"
      ]
    },
    {
      "cell_type": "code",
      "execution_count": 32,
      "metadata": {
        "id": "wHQkqWIDOrkU"
      },
      "outputs": [],
      "source": [
        "N_CLASSES = 5\n",
        "num_features = 1920\n",
        "model.classifier = nn.Linear(num_features, N_CLASSES)\n",
        "model = model.to(DEVICE)"
      ]
    },
    {
      "cell_type": "code",
      "execution_count": 33,
      "metadata": {
        "id": "g_VV1RJzOrpN",
        "colab": {
          "base_uri": "https://localhost:8080/"
        },
        "outputId": "40d5a96e-326d-4b1c-c60e-a3c4e9ea0b97"
      },
      "outputs": [
        {
          "output_type": "stream",
          "name": "stdout",
          "text": [
            "Training: batch 43 out of 43\n",
            "Validation: batch 15 out of 15\n",
            "\n",
            "Epoch 1 out of 10: Train loss = 0.6988822831663974, validation loss = 0.5834464649359385 \n",
            "                                         Train metric = 0.48871085214857973, validation metric = 0.5622270742358079\n",
            "\n",
            "Training: batch 43 out of 43\n",
            "Validation: batch 15 out of 15\n",
            "\n",
            "Epoch 2 out of 10: Train loss = 0.5270664428555688, validation loss = 0.4848905821641286 \n",
            "                                         Train metric = 0.5844865258557902, validation metric = 0.6353711790393013\n",
            "\n",
            "Training: batch 43 out of 43\n",
            "Validation: batch 15 out of 15\n",
            "\n",
            "Epoch 3 out of 10: Train loss = 0.48495238257008927, validation loss = 0.5370422601699829 \n",
            "                                         Train metric = 0.6383831026948289, validation metric = 0.6222707423580786\n",
            "\n",
            "Training: batch 43 out of 43\n",
            "Validation: batch 15 out of 15\n",
            "\n",
            "Epoch 4 out of 10: Train loss = 0.4548941012038741, validation loss = 0.43787068327267964 \n",
            "                                         Train metric = 0.6190823015294975, validation metric = 0.5993449781659389\n",
            "\n",
            "Training: batch 43 out of 43\n",
            "Validation: batch 15 out of 15\n",
            "\n",
            "Epoch 5 out of 10: Train loss = 0.4206279197404551, validation loss = 0.5212724010149637 \n",
            "                                         Train metric = 0.6777130371449381, validation metric = 0.5283842794759825\n",
            "\n",
            "Training: batch 43 out of 43\n",
            "Validation: batch 15 out of 15\n",
            "\n",
            "Epoch 6 out of 10: Train loss = 0.4370436897111494, validation loss = 0.6065700113773346 \n",
            "                                         Train metric = 0.5899490167516388, validation metric = 0.509825327510917\n",
            "\n",
            "Training: batch 43 out of 43\n",
            "Validation: batch 15 out of 15\n",
            "\n",
            "Epoch 7 out of 10: Train loss = 0.3832676542359729, validation loss = 0.4457906981309255 \n",
            "                                         Train metric = 0.6260014566642389, validation metric = 0.5829694323144105\n",
            "\n",
            "Training: batch 43 out of 43\n",
            "Validation: batch 15 out of 15\n",
            "\n",
            "Epoch 8 out of 10: Train loss = 0.38316442003083784, validation loss = 0.5591141482194265 \n",
            "                                         Train metric = 0.596504005826657, validation metric = 0.5622270742358079\n",
            "\n",
            "Training: batch 43 out of 43\n",
            "Validation: batch 15 out of 15\n",
            "\n",
            "Epoch 9 out of 10: Train loss = 0.3340823986502581, validation loss = 0.4165367394685745 \n",
            "                                         Train metric = 0.6190823015294975, validation metric = 0.6790393013100436\n",
            "\n",
            "Training: batch 43 out of 43\n",
            "Validation: batch 15 out of 15\n",
            "\n",
            "Epoch 10 out of 10: Train loss = 0.27408689884252324, validation loss = 0.44469815989335376 \n",
            "                                         Train metric = 0.7126729788783686, validation metric = 0.6473799126637555\n",
            "\n"
          ]
        },
        {
          "output_type": "execute_result",
          "data": {
            "text/plain": [
              "<__main__.Trainer at 0x7efd2c4d6150>"
            ]
          },
          "metadata": {},
          "execution_count": 33
        }
      ],
      "source": [
        "criterion = nn.CrossEntropyLoss()\n",
        "optimizer = torch.optim.Adam(model.parameters(), lr=0.001)\n",
        "scheduler = torch.optim.lr_scheduler.ReduceLROnPlateau(optimizer=optimizer, patience=3, factor=0.5)\n",
        "\n",
        "trainer = Trainer(model, 10, criterion, optimizer, trainloader, valloader, \n",
        "                  DEVICE, accuracy_score,\n",
        "                  scheduler=scheduler)\n",
        "trainer.fit()"
      ]
    },
    {
      "cell_type": "code",
      "execution_count": 34,
      "metadata": {
        "id": "jVHZ7SP5OrrV",
        "colab": {
          "base_uri": "https://localhost:8080/",
          "height": 592
        },
        "outputId": "a86ac4f3-e1eb-4524-d13f-ac79b34fa7c0"
      },
      "outputs": [
        {
          "output_type": "display_data",
          "data": {
            "text/plain": [
              "<Figure size 1080x720 with 1 Axes>"
            ],
            "image/png": "[encoded data removed]"
          },
          "metadata": {
            "needs_background": "light"
          }
        }
      ],
      "source": [
        "sns.lineplot(y=trainer.train_losses, x=range(1, 11), label=\"Train\")\n",
        "sns.lineplot(y=trainer.valid_losses, x=range(1, 11), label=\"Validation\")\n",
        "\n",
        "plt.show()"
      ]
    },
    {
      "cell_type": "code",
      "execution_count": 35,
      "metadata": {
        "id": "JWBYVkL0O21Y",
        "colab": {
          "base_uri": "https://localhost:8080/"
        },
        "outputId": "ef6560c8-c08f-4f5c-afce-6eefb4b479a1"
      },
      "outputs": [
        {
          "output_type": "execute_result",
          "data": {
            "text/plain": [
              "0.8351528384279476"
            ]
          },
          "metadata": {},
          "execution_count": 35
        }
      ],
      "source": [
        "calculate_metric(model, valloader)"
      ]
    },
    {
      "cell_type": "code",
      "execution_count": 36,
      "metadata": {
        "id": "RGPkPgSTO23b",
        "colab": {
          "base_uri": "https://localhost:8080/"
        },
        "outputId": "6ddb2232-9ecb-44a2-a1e0-32b26164cfa1"
      },
      "outputs": [
        {
          "output_type": "execute_result",
          "data": {
            "text/plain": [
              "0.669687295688473"
            ]
          },
          "metadata": {},
          "execution_count": 36
        }
      ],
      "source": [
        "calculate_metric(model, valloader, f1_macro)"
      ]
    },
    {
      "cell_type": "code",
      "execution_count": 37,
      "metadata": {
        "id": "-Z1a6105O257",
        "colab": {
          "base_uri": "https://localhost:8080/"
        },
        "outputId": "8e49ca72-f30f-48bf-f4a1-9ea5b14d67b3"
      },
      "outputs": [
        {
          "output_type": "execute_result",
          "data": {
            "text/plain": [
              "0.8351528384279476"
            ]
          },
          "metadata": {},
          "execution_count": 37
        }
      ],
      "source": [
        "calculate_metric(model, valloader, f1_micro)"
      ]
    },
    {
      "cell_type": "code",
      "execution_count": 38,
      "metadata": {
        "id": "OaDAPuSySt6k"
      },
      "outputs": [],
      "source": [
        "torch.save(model.state_dict(), '/content/drive/MyDrive/models/densnet201.txt')"
      ]
    },
    {
      "cell_type": "code",
      "execution_count": 39,
      "metadata": {
        "id": "dPHEykc-z5kF"
      },
      "outputs": [],
      "source": [
        "del trainer\n",
        "del model\n",
        "\n",
        "torch.cuda.empty_cache()\n",
        "torch.cuda.synchronize()"
      ]
    },
    {
      "cell_type": "markdown",
      "metadata": {
        "id": "vMhorLhmPBTt"
      },
      "source": [
        "# RESNET34"
      ]
    },
    {
      "cell_type": "code",
      "execution_count": 62,
      "metadata": {
        "id": "StBf8n9uPIkf"
      },
      "outputs": [],
      "source": [
        "model = torchvision.models.resnet34(pretrained=True)"
      ]
    },
    {
      "cell_type": "code",
      "execution_count": 63,
      "metadata": {
        "id": "JSl-7HqtPInj"
      },
      "outputs": [],
      "source": [
        "N_CLASSES = 5\n",
        "num_features = 512\n",
        "model.fc = nn.Linear(num_features, N_CLASSES)\n",
        "model = model.to(DEVICE)"
      ]
    },
    {
      "cell_type": "code",
      "execution_count": 64,
      "metadata": {
        "id": "C7WpDylEPDIU",
        "colab": {
          "base_uri": "https://localhost:8080/"
        },
        "outputId": "d2015292-4b58-4779-8393-e38bf45f16b7"
      },
      "outputs": [
        {
          "output_type": "stream",
          "name": "stdout",
          "text": [
            "Training: batch 43 out of 43\n",
            "Validation: batch 15 out of 15\n",
            "\n",
            "Epoch 1 out of 10: Train loss = 0.8196856123070384, validation loss = 0.9808936595916748 \n",
            "                                         Train metric = 0.28368536052439913, validation metric = 0.4017467248908297\n",
            "\n",
            "Training: batch 43 out of 43\n",
            "Validation: batch 15 out of 15\n",
            "\n",
            "Epoch 2 out of 10: Train loss = 0.5787979170333507, validation loss = 0.6860848307609558 \n",
            "                                         Train metric = 0.44865258557902404, validation metric = 0.3962882096069869\n",
            "\n",
            "Training: batch 43 out of 43\n",
            "Validation: batch 15 out of 15\n",
            "\n",
            "Epoch 3 out of 10: Train loss = 0.5376818117707275, validation loss = 0.5510422090689341 \n",
            "                                         Train metric = 0.44100509832483614, validation metric = 0.4661572052401747\n",
            "\n",
            "Training: batch 43 out of 43\n",
            "Validation: batch 15 out of 15\n",
            "\n",
            "Epoch 4 out of 10: Train loss = 0.48446223763532414, validation loss = 0.7846026500066121 \n",
            "                                         Train metric = 0.5174799708667153, validation metric = 0.5949781659388647\n",
            "\n",
            "Training: batch 43 out of 43\n",
            "Validation: batch 15 out of 15\n",
            "\n",
            "Epoch 5 out of 10: Train loss = 0.4562079712401989, validation loss = 1.0876147230466207 \n",
            "                                         Train metric = 0.5396941005098325, validation metric = 0.3799126637554585\n",
            "\n",
            "Training: batch 43 out of 43\n",
            "Validation: batch 15 out of 15\n",
            "\n",
            "Epoch 6 out of 10: Train loss = 0.46445670238761017, validation loss = 0.5126883467038472 \n",
            "                                         Train metric = 0.5218499635833941, validation metric = 0.41375545851528384\n",
            "\n",
            "Training: batch 43 out of 43\n",
            "Validation: batch 15 out of 15\n",
            "\n",
            "Epoch 7 out of 10: Train loss = 0.4162970663503159, validation loss = 0.6123576442400614 \n",
            "                                         Train metric = 0.5294974508375819, validation metric = 0.6233624454148472\n",
            "\n",
            "Training: batch 43 out of 43\n",
            "Validation: batch 15 out of 15\n",
            "\n",
            "Epoch 8 out of 10: Train loss = 0.39329228151676265, validation loss = 0.4992834190527598 \n",
            "                                         Train metric = 0.590313182811362, validation metric = 0.5491266375545851\n",
            "\n",
            "Training: batch 43 out of 43\n",
            "Validation: batch 15 out of 15\n",
            "\n",
            "Epoch 9 out of 10: Train loss = 0.36921126204867694, validation loss = 0.46228965520858767 \n",
            "                                         Train metric = 0.6329206117989803, validation metric = 0.5218340611353712\n",
            "\n",
            "Training: batch 43 out of 43\n",
            "Validation: batch 15 out of 15\n",
            "\n",
            "Epoch 10 out of 10: Train loss = 0.3505465391763421, validation loss = 0.47759615182876586 \n",
            "                                         Train metric = 0.6533139111434815, validation metric = 0.49344978165938863\n",
            "\n"
          ]
        },
        {
          "output_type": "execute_result",
          "data": {
            "text/plain": [
              "<__main__.Trainer at 0x7efcb9c93590>"
            ]
          },
          "metadata": {},
          "execution_count": 64
        }
      ],
      "source": [
        "criterion = nn.CrossEntropyLoss()\n",
        "optimizer = torch.optim.Adam(model.parameters(), lr=0.001)\n",
        "scheduler = torch.optim.lr_scheduler.ReduceLROnPlateau(optimizer=optimizer, patience=3, factor=0.5)\n",
        "\n",
        "trainer = Trainer(model, 10, criterion, optimizer, trainloader, valloader, \n",
        "                  DEVICE, accuracy_score,\n",
        "                  scheduler=scheduler)\n",
        "trainer.fit()"
      ]
    },
    {
      "cell_type": "code",
      "execution_count": 65,
      "metadata": {
        "id": "bN740ee1PDKr",
        "colab": {
          "base_uri": "https://localhost:8080/",
          "height": 592
        },
        "outputId": "55e99ff5-1666-4897-ea63-0eae1496d088"
      },
      "outputs": [
        {
          "output_type": "display_data",
          "data": {
            "text/plain": [
              "<Figure size 1080x720 with 1 Axes>"
            ],
            "image/png": "[encoded data removed]"
          },
          "metadata": {
            "needs_background": "light"
          }
        }
      ],
      "source": [
        "sns.lineplot(y=trainer.train_losses, x=range(1, 11), label=\"Train\")\n",
        "sns.lineplot(y=trainer.valid_losses, x=range(1, 11), label=\"Validation\")\n",
        "\n",
        "plt.show()"
      ]
    },
    {
      "cell_type": "code",
      "execution_count": 66,
      "metadata": {
        "id": "1rMgQIQcPDMu",
        "colab": {
          "base_uri": "https://localhost:8080/"
        },
        "outputId": "4dbfcd5f-d3b9-4ebd-922c-38daeb1351ac"
      },
      "outputs": [
        {
          "output_type": "execute_result",
          "data": {
            "text/plain": [
              "0.8165938864628821"
            ]
          },
          "metadata": {},
          "execution_count": 66
        }
      ],
      "source": [
        "calculate_metric(model, valloader)"
      ]
    },
    {
      "cell_type": "code",
      "execution_count": 67,
      "metadata": {
        "id": "yyW3hnUiPDOw",
        "colab": {
          "base_uri": "https://localhost:8080/"
        },
        "outputId": "74346180-daaf-4973-f92c-d0c828575239"
      },
      "outputs": [
        {
          "output_type": "execute_result",
          "data": {
            "text/plain": [
              "0.6192900554618977"
            ]
          },
          "metadata": {},
          "execution_count": 67
        }
      ],
      "source": [
        "calculate_metric(model, valloader, f1_macro)"
      ]
    },
    {
      "cell_type": "code",
      "execution_count": 68,
      "metadata": {
        "id": "Dss6WgnUPDGJ",
        "colab": {
          "base_uri": "https://localhost:8080/"
        },
        "outputId": "c5bfc3a9-825a-4c81-c6ae-ae6ff263d285"
      },
      "outputs": [
        {
          "output_type": "execute_result",
          "data": {
            "text/plain": [
              "0.8165938864628821"
            ]
          },
          "metadata": {},
          "execution_count": 68
        }
      ],
      "source": [
        "calculate_metric(model, valloader, f1_micro)"
      ]
    },
    {
      "cell_type": "code",
      "execution_count": 69,
      "metadata": {
        "id": "xCReKOyJPDQq"
      },
      "outputs": [],
      "source": [
        "# save model\n",
        "torch.save(model.state_dict(), '/content/drive/MyDrive/models/resnet34.txt')"
      ]
    },
    {
      "cell_type": "code",
      "execution_count": 79,
      "metadata": {
        "id": "EpnHcJMqz7nD",
        "colab": {
          "base_uri": "https://localhost:8080/",
          "height": 218
        },
        "outputId": "7fc27a91-69fe-44bf-d881-dda31d11fa27"
      },
      "outputs": [
        {
          "output_type": "error",
          "ename": "NameError",
          "evalue": "ignored",
          "traceback": [
            "\u001b[0;31m---------------------------------------------------------------------------\u001b[0m",
            "\u001b[0;31mNameError\u001b[0m                                 Traceback (most recent call last)",
            "\u001b[0;32m<ipython-input-79-edf759de7ef1>\u001b[0m in \u001b[0;36m<module>\u001b[0;34m()\u001b[0m\n\u001b[0;32m----> 1\u001b[0;31m \u001b[0;32mdel\u001b[0m \u001b[0mtrainer\u001b[0m\u001b[0;34m\u001b[0m\u001b[0;34m\u001b[0m\u001b[0m\n\u001b[0m\u001b[1;32m      2\u001b[0m \u001b[0;34m\u001b[0m\u001b[0m\n\u001b[1;32m      3\u001b[0m \u001b[0mtorch\u001b[0m\u001b[0;34m.\u001b[0m\u001b[0mcuda\u001b[0m\u001b[0;34m.\u001b[0m\u001b[0mempty_cache\u001b[0m\u001b[0;34m(\u001b[0m\u001b[0;34m)\u001b[0m\u001b[0;34m\u001b[0m\u001b[0;34m\u001b[0m\u001b[0m\n\u001b[1;32m      4\u001b[0m \u001b[0mtorch\u001b[0m\u001b[0;34m.\u001b[0m\u001b[0mcuda\u001b[0m\u001b[0;34m.\u001b[0m\u001b[0msynchronize\u001b[0m\u001b[0;34m(\u001b[0m\u001b[0;34m)\u001b[0m\u001b[0;34m\u001b[0m\u001b[0;34m\u001b[0m\u001b[0m\n",
            "\u001b[0;31mNameError\u001b[0m: name 'trainer' is not defined"
          ]
        }
      ],
      "source": [
        "del trainer\n",
        "\n",
        "torch.cuda.empty_cache()\n",
        "torch.cuda.synchronize()"
      ]
    },
    {
      "cell_type": "markdown",
      "metadata": {
        "id": "DTdKE_QavyZx"
      },
      "source": [
        "# Предсказание"
      ]
    },
    {
      "cell_type": "markdown",
      "metadata": {
        "id": "g_19dAGzvfxg"
      },
      "source": [
        ""
      ]
    },
    {
      "cell_type": "code",
      "execution_count": 94,
      "metadata": {
        "id": "e7tp9_edwYKC",
        "colab": {
          "base_uri": "https://localhost:8080/",
          "height": 363
        },
        "outputId": "a9360fff-376e-4cd1-fc81-97d8ff01e9af"
      },
      "outputs": [
        {
          "output_type": "execute_result",
          "data": {
            "text/plain": [
              "                             path\n",
              "0  ./test_images/c59e7e8eeeb5.png\n",
              "1  ./test_images/3bab7d408b23.png\n",
              "2  ./test_images/43c7740f646a.png\n",
              "3  ./test_images/e002ce3cfe09.png\n",
              "4  ./test_images/020f6983114d.png\n",
              "5  ./test_images/447d8e8f446d.png\n",
              "6  ./test_images/8f874a9724df.png\n",
              "7  ./test_images/69d21c5c7dce.png\n",
              "8  ./test_images/a7699068be9a.png\n",
              "9  ./test_images/b501a5bdd0cc.png"
            ],
            "text/html": [
              "\n",
              "  <div id=\"df-1df6495d-4fe7-42e9-8cc2-e349126fd1c3\">\n",
              "    <div class=\"colab-df-container\">\n",
              "      <div>\n",
              "<style scoped>\n",
              "    .dataframe tbody tr th:only-of-type {\n",
              "        vertical-align: middle;\n",
              "    }\n",
              "\n",
              "    .dataframe tbody tr th {\n",
              "        vertical-align: top;\n",
              "    }\n",
              "\n",
              "    .dataframe thead th {\n",
              "        text-align: right;\n",
              "    }\n",
              "</style>\n",
              "<table border=\"1\" class=\"dataframe\">\n",
              "  <thead>\n",
              "    <tr style=\"text-align: right;\">\n",
              "      <th></th>\n",
              "      <th>path</th>\n",
              "    </tr>\n",
              "  </thead>\n",
              "  <tbody>\n",
              "    <tr>\n",
              "      <th>0</th>\n",
              "      <td>./test_images/c59e7e8eeeb5.png</td>\n",
              "    </tr>\n",
              "    <tr>\n",
              "      <th>1</th>\n",
              "      <td>./test_images/3bab7d408b23.png</td>\n",
              "    </tr>\n",
              "    <tr>\n",
              "      <th>2</th>\n",
              "      <td>./test_images/43c7740f646a.png</td>\n",
              "    </tr>\n",
              "    <tr>\n",
              "      <th>3</th>\n",
              "      <td>./test_images/e002ce3cfe09.png</td>\n",
              "    </tr>\n",
              "    <tr>\n",
              "      <th>4</th>\n",
              "      <td>./test_images/020f6983114d.png</td>\n",
              "    </tr>\n",
              "    <tr>\n",
              "      <th>5</th>\n",
              "      <td>./test_images/447d8e8f446d.png</td>\n",
              "    </tr>\n",
              "    <tr>\n",
              "      <th>6</th>\n",
              "      <td>./test_images/8f874a9724df.png</td>\n",
              "    </tr>\n",
              "    <tr>\n",
              "      <th>7</th>\n",
              "      <td>./test_images/69d21c5c7dce.png</td>\n",
              "    </tr>\n",
              "    <tr>\n",
              "      <th>8</th>\n",
              "      <td>./test_images/a7699068be9a.png</td>\n",
              "    </tr>\n",
              "    <tr>\n",
              "      <th>9</th>\n",
              "      <td>./test_images/b501a5bdd0cc.png</td>\n",
              "    </tr>\n",
              "  </tbody>\n",
              "</table>\n",
              "</div>\n",
              "      <button class=\"colab-df-convert\" onclick=\"convertToInteractive('df-1df6495d-4fe7-42e9-8cc2-e349126fd1c3')\"\n",
              "              title=\"Convert this dataframe to an interactive table.\"\n",
              "              style=\"display:none;\">\n",
              "        \n",
              "  <svg xmlns=\"http://www.w3.org/2000/svg\" height=\"24px\"viewBox=\"0 0 24 24\"\n",
              "       width=\"24px\">\n",
              "    <path d=\"M0 0h24v24H0V0z\" fill=\"none\"/>\n",
              "    <path d=\"M18.56 5.44l.94 2.06.94-2.06 2.06-.94-2.06-.94-.94-2.06-.94 2.06-2.06.94zm-11 1L8.5 8.5l.94-2.06 2.06-.94-2.06-.94L8.5 2.5l-.94 2.06-2.06.94zm10 10l.94 2.06.94-2.06 2.06-.94-2.06-.94-.94-2.06-.94 2.06-2.06.94z\"/><path d=\"M17.41 7.96l-1.37-1.37c-.4-.4-.92-.59-1.43-.59-.52 0-1.04.2-1.43.59L10.3 9.45l-7.72 7.72c-.78.78-.78 2.05 0 2.83L4 21.41c.39.39.9.59 1.41.59.51 0 1.02-.2 1.41-.59l7.78-7.78 2.81-2.81c.8-.78.8-2.07 0-2.86zM5.41 20L4 18.59l7.72-7.72 1.47 1.35L5.41 20z\"/>\n",
              "  </svg>\n",
              "      </button>\n",
              "      \n",
              "  <style>\n",
              "    .colab-df-container {\n",
              "      display:flex;\n",
              "      flex-wrap:wrap;\n",
              "      gap: 12px;\n",
              "    }\n",
              "\n",
              "    .colab-df-convert {\n",
              "      background-color: #E8F0FE;\n",
              "      border: none;\n",
              "      border-radius: 50%;\n",
              "      cursor: pointer;\n",
              "      display: none;\n",
              "      fill: #1967D2;\n",
              "      height: 32px;\n",
              "      padding: 0 0 0 0;\n",
              "      width: 32px;\n",
              "    }\n",
              "\n",
              "    .colab-df-convert:hover {\n",
              "      background-color: #E2EBFA;\n",
              "      box-shadow: 0px 1px 2px rgba(60, 64, 67, 0.3), 0px 1px 3px 1px rgba(60, 64, 67, 0.15);\n",
              "      fill: #174EA6;\n",
              "    }\n",
              "\n",
              "    [theme=dark] .colab-df-convert {\n",
              "      background-color: #3B4455;\n",
              "      fill: #D2E3FC;\n",
              "    }\n",
              "\n",
              "    [theme=dark] .colab-df-convert:hover {\n",
              "      background-color: #434B5C;\n",
              "      box-shadow: 0px 1px 3px 1px rgba(0, 0, 0, 0.15);\n",
              "      filter: drop-shadow(0px 1px 2px rgba(0, 0, 0, 0.3));\n",
              "      fill: #FFFFFF;\n",
              "    }\n",
              "  </style>\n",
              "\n",
              "      <script>\n",
              "        const buttonEl =\n",
              "          document.querySelector('#df-1df6495d-4fe7-42e9-8cc2-e349126fd1c3 button.colab-df-convert');\n",
              "        buttonEl.style.display =\n",
              "          google.colab.kernel.accessAllowed ? 'block' : 'none';\n",
              "\n",
              "        async function convertToInteractive(key) {\n",
              "          const element = document.querySelector('#df-1df6495d-4fe7-42e9-8cc2-e349126fd1c3');\n",
              "          const dataTable =\n",
              "            await google.colab.kernel.invokeFunction('convertToInteractive',\n",
              "                                                     [key], {});\n",
              "          if (!dataTable) return;\n",
              "\n",
              "          const docLinkHtml = 'Like what you see? Visit the ' +\n",
              "            '<a target=\"_blank\" href=https://colab.research.google.com/notebooks/data_table.ipynb>data table notebook</a>'\n",
              "            + ' to learn more about interactive tables.';\n",
              "          element.innerHTML = '';\n",
              "          dataTable['output_type'] = 'display_data';\n",
              "          await google.colab.output.renderOutput(dataTable, element);\n",
              "          const docLink = document.createElement('div');\n",
              "          docLink.innerHTML = docLinkHtml;\n",
              "          element.appendChild(docLink);\n",
              "        }\n",
              "      </script>\n",
              "    </div>\n",
              "  </div>\n",
              "  "
            ]
          },
          "metadata": {},
          "execution_count": 94
        }
      ],
      "source": [
        "test_dir = os.path.join('.','test_images/')\n",
        "df_t = pd.read_csv(os.path.join('.', 'test.csv'))\n",
        "\n",
        "df_t['path'] = df_t['id_code'].map(lambda x: os.path.join(test_dir,'{}.png'.format(x)))\n",
        "df_t = df_t.drop(columns=['id_code'])\n",
        "df_t = df_t.sample(frac=1).reset_index(drop=True) #shuffle dataframe\n",
        "\n",
        "df_t.head(10)"
      ]
    },
    {
      "cell_type": "code",
      "execution_count": 100,
      "metadata": {
        "id": "QqGPruBgXwCT"
      },
      "outputs": [],
      "source": [
        "testset = BlindDataset(df_t, mode=\"test\")\n",
        "teslloader = DataLoader(testset, batch_size=BATCH_SIZE, shuffle=False)"
      ]
    },
    {
      "cell_type": "code",
      "source": [
        "results = predict(model, teslloader, mod='test')"
      ],
      "metadata": {
        "id": "Rj-37tO9Mx72"
      },
      "execution_count": 102,
      "outputs": []
    },
    {
      "cell_type": "code",
      "source": [
        "new_list = []\n",
        "for i in results:\n",
        "  new_list.append(i.item())"
      ],
      "metadata": {
        "id": "GAVAArlRRvpd"
      },
      "execution_count": 106,
      "outputs": []
    },
    {
      "cell_type": "code",
      "source": [
        "df_test = pd.read_csv(os.path.join('.', 'test.csv'))\n",
        "df_test['diagnosis'] = new_list"
      ],
      "metadata": {
        "id": "HD1RPFJzSv3J"
      },
      "execution_count": 108,
      "outputs": []
    },
    {
      "cell_type": "code",
      "execution_count": 109,
      "metadata": {
        "id": "zR95wuW12aj5"
      },
      "outputs": [],
      "source": [
        "df_test.to_csv(\"submission.csv\", index=False)"
      ]
    },
    {
      "cell_type": "code",
      "source": [
        ""
      ],
      "metadata": {
        "id": "3dQxZHp2XEdH"
      },
      "execution_count": null,
      "outputs": []
    }
  ],
  "metadata": {
    "accelerator": "GPU",
    "colab": {
      "collapsed_sections": [],
      "machine_shape": "hm",
      "name": "model.ipynb",
      "provenance": [],
      "toc_visible": true,
      "mount_file_id": "1CgKtp0m6Kr3asd27X4Gt36PML9J3APQD",
      "authorship_tag": "ABX9TyPY4Bn4XGmxmCxHoC33xRpi",
      "include_colab_link": true
    },
    "kernelspec": {
      "display_name": "Python 3",
      "name": "python3"
    },
    "language_info": {
      "name": "python"
    },
    "widgets": {
      "application/vnd.jupyter.widget-state+json": {
        "2e2eef1e57ee4adf8818f51787c7d18f": {
          "model_module": "@jupyter-widgets/controls",
          "model_name": "HBoxModel",
          "model_module_version": "1.5.0",
          "state": {
            "_dom_classes": [],
            "_model_module": "@jupyter-widgets/controls",
            "_model_module_version": "1.5.0",
            "_model_name": "HBoxModel",
            "_view_count": null,
            "_view_module": "@jupyter-widgets/controls",
            "_view_module_version": "1.5.0",
            "_view_name": "HBoxView",
            "box_style": "",
            "children": [
              "IPY_MODEL_ec8bbd4a254346ffa863393925ed3dfe",
              "IPY_MODEL_b0395995fdd947faaeb45b5f1aa5998b",
              "IPY_MODEL_bde7d9f149144a629b33b60ad3ccd2aa"
            ],
            "layout": "IPY_MODEL_ae3f2440cc7440de936d5a7c0e2883f2"
          }
        },
        "ec8bbd4a254346ffa863393925ed3dfe": {
          "model_module": "@jupyter-widgets/controls",
          "model_name": "HTMLModel",
          "model_module_version": "1.5.0",
          "state": {
            "_dom_classes": [],
            "_model_module": "@jupyter-widgets/controls",
            "_model_module_version": "1.5.0",
            "_model_name": "HTMLModel",
            "_view_count": null,
            "_view_module": "@jupyter-widgets/controls",
            "_view_module_version": "1.5.0",
            "_view_name": "HTMLView",
            "description": "",
            "description_tooltip": null,
            "layout": "IPY_MODEL_b5b6ec56f8a1412fa8e813cc1c3f672f",
            "placeholder": "​",
            "style": "IPY_MODEL_ba01faba52a4433594decfba70157cf6",
            "value": "100%"
          }
        },
        "b0395995fdd947faaeb45b5f1aa5998b": {
          "model_module": "@jupyter-widgets/controls",
          "model_name": "FloatProgressModel",
          "model_module_version": "1.5.0",
          "state": {
            "_dom_classes": [],
            "_model_module": "@jupyter-widgets/controls",
            "_model_module_version": "1.5.0",
            "_model_name": "FloatProgressModel",
            "_view_count": null,
            "_view_module": "@jupyter-widgets/controls",
            "_view_module_version": "1.5.0",
            "_view_name": "ProgressView",
            "bar_style": "success",
            "description": "",
            "description_tooltip": null,
            "layout": "IPY_MODEL_1789baef28f04e1186f7eb7d12776599",
            "max": 81131730,
            "min": 0,
            "orientation": "horizontal",
            "style": "IPY_MODEL_c232c49be2184e048ebddce375b0a4f2",
            "value": 81131730
          }
        },
        "bde7d9f149144a629b33b60ad3ccd2aa": {
          "model_module": "@jupyter-widgets/controls",
          "model_name": "HTMLModel",
          "model_module_version": "1.5.0",
          "state": {
            "_dom_classes": [],
            "_model_module": "@jupyter-widgets/controls",
            "_model_module_version": "1.5.0",
            "_model_name": "HTMLModel",
            "_view_count": null,
            "_view_module": "@jupyter-widgets/controls",
            "_view_module_version": "1.5.0",
            "_view_name": "HTMLView",
            "description": "",
            "description_tooltip": null,
            "layout": "IPY_MODEL_8074efd02ab24d20bae2ef72bad9ab71",
            "placeholder": "​",
            "style": "IPY_MODEL_9d316d728cd246a6bae3f0bf11d12be4",
            "value": " 77.4M/77.4M [00:00&lt;00:00, 203MB/s]"
          }
        },
        "ae3f2440cc7440de936d5a7c0e2883f2": {
          "model_module": "@jupyter-widgets/base",
          "model_name": "LayoutModel",
          "model_module_version": "1.2.0",
          "state": {
            "_model_module": "@jupyter-widgets/base",
            "_model_module_version": "1.2.0",
            "_model_name": "LayoutModel",
            "_view_count": null,
            "_view_module": "@jupyter-widgets/base",
            "_view_module_version": "1.2.0",
            "_view_name": "LayoutView",
            "align_content": null,
            "align_items": null,
            "align_self": null,
            "border": null,
            "bottom": null,
            "display": null,
            "flex": null,
            "flex_flow": null,
            "grid_area": null,
            "grid_auto_columns": null,
            "grid_auto_flow": null,
            "grid_auto_rows": null,
            "grid_column": null,
            "grid_gap": null,
            "grid_row": null,
            "grid_template_areas": null,
            "grid_template_columns": null,
            "grid_template_rows": null,
            "height": null,
            "justify_content": null,
            "justify_items": null,
            "left": null,
            "margin": null,
            "max_height": null,
            "max_width": null,
            "min_height": null,
            "min_width": null,
            "object_fit": null,
            "object_position": null,
            "order": null,
            "overflow": null,
            "overflow_x": null,
            "overflow_y": null,
            "padding": null,
            "right": null,
            "top": null,
            "visibility": null,
            "width": null
          }
        },
        "b5b6ec56f8a1412fa8e813cc1c3f672f": {
          "model_module": "@jupyter-widgets/base",
          "model_name": "LayoutModel",
          "model_module_version": "1.2.0",
          "state": {
            "_model_module": "@jupyter-widgets/base",
            "_model_module_version": "1.2.0",
            "_model_name": "LayoutModel",
            "_view_count": null,
            "_view_module": "@jupyter-widgets/base",
            "_view_module_version": "1.2.0",
            "_view_name": "LayoutView",
            "align_content": null,
            "align_items": null,
            "align_self": null,
            "border": null,
            "bottom": null,
            "display": null,
            "flex": null,
            "flex_flow": null,
            "grid_area": null,
            "grid_auto_columns": null,
            "grid_auto_flow": null,
            "grid_auto_rows": null,
            "grid_column": null,
            "grid_gap": null,
            "grid_row": null,
            "grid_template_areas": null,
            "grid_template_columns": null,
            "grid_template_rows": null,
            "height": null,
            "justify_content": null,
            "justify_items": null,
            "left": null,
            "margin": null,
            "max_height": null,
            "max_width": null,
            "min_height": null,
            "min_width": null,
            "object_fit": null,
            "object_position": null,
            "order": null,
            "overflow": null,
            "overflow_x": null,
            "overflow_y": null,
            "padding": null,
            "right": null,
            "top": null,
            "visibility": null,
            "width": null
          }
        },
        "ba01faba52a4433594decfba70157cf6": {
          "model_module": "@jupyter-widgets/controls",
          "model_name": "DescriptionStyleModel",
          "model_module_version": "1.5.0",
          "state": {
            "_model_module": "@jupyter-widgets/controls",
            "_model_module_version": "1.5.0",
            "_model_name": "DescriptionStyleModel",
            "_view_count": null,
            "_view_module": "@jupyter-widgets/base",
            "_view_module_version": "1.2.0",
            "_view_name": "StyleView",
            "description_width": ""
          }
        },
        "1789baef28f04e1186f7eb7d12776599": {
          "model_module": "@jupyter-widgets/base",
          "model_name": "LayoutModel",
          "model_module_version": "1.2.0",
          "state": {
            "_model_module": "@jupyter-widgets/base",
            "_model_module_version": "1.2.0",
            "_model_name": "LayoutModel",
            "_view_count": null,
            "_view_module": "@jupyter-widgets/base",
            "_view_module_version": "1.2.0",
            "_view_name": "LayoutView",
            "align_content": null,
            "align_items": null,
            "align_self": null,
            "border": null,
            "bottom": null,
            "display": null,
            "flex": null,
            "flex_flow": null,
            "grid_area": null,
            "grid_auto_columns": null,
            "grid_auto_flow": null,
            "grid_auto_rows": null,
            "grid_column": null,
            "grid_gap": null,
            "grid_row": null,
            "grid_template_areas": null,
            "grid_template_columns": null,
            "grid_template_rows": null,
            "height": null,
            "justify_content": null,
            "justify_items": null,
            "left": null,
            "margin": null,
            "max_height": null,
            "max_width": null,
            "min_height": null,
            "min_width": null,
            "object_fit": null,
            "object_position": null,
            "order": null,
            "overflow": null,
            "overflow_x": null,
            "overflow_y": null,
            "padding": null,
            "right": null,
            "top": null,
            "visibility": null,
            "width": null
          }
        },
        "c232c49be2184e048ebddce375b0a4f2": {
          "model_module": "@jupyter-widgets/controls",
          "model_name": "ProgressStyleModel",
          "model_module_version": "1.5.0",
          "state": {
            "_model_module": "@jupyter-widgets/controls",
            "_model_module_version": "1.5.0",
            "_model_name": "ProgressStyleModel",
            "_view_count": null,
            "_view_module": "@jupyter-widgets/base",
            "_view_module_version": "1.2.0",
            "_view_name": "StyleView",
            "bar_color": null,
            "description_width": ""
          }
        },
        "8074efd02ab24d20bae2ef72bad9ab71": {
          "model_module": "@jupyter-widgets/base",
          "model_name": "LayoutModel",
          "model_module_version": "1.2.0",
          "state": {
            "_model_module": "@jupyter-widgets/base",
            "_model_module_version": "1.2.0",
            "_model_name": "LayoutModel",
            "_view_count": null,
            "_view_module": "@jupyter-widgets/base",
            "_view_module_version": "1.2.0",
            "_view_name": "LayoutView",
            "align_content": null,
            "align_items": null,
            "align_self": null,
            "border": null,
            "bottom": null,
            "display": null,
            "flex": null,
            "flex_flow": null,
            "grid_area": null,
            "grid_auto_columns": null,
            "grid_auto_flow": null,
            "grid_auto_rows": null,
            "grid_column": null,
            "grid_gap": null,
            "grid_row": null,
            "grid_template_areas": null,
            "grid_template_columns": null,
            "grid_template_rows": null,
            "height": null,
            "justify_content": null,
            "justify_items": null,
            "left": null,
            "margin": null,
            "max_height": null,
            "max_width": null,
            "min_height": null,
            "min_width": null,
            "object_fit": null,
            "object_position": null,
            "order": null,
            "overflow": null,
            "overflow_x": null,
            "overflow_y": null,
            "padding": null,
            "right": null,
            "top": null,
            "visibility": null,
            "width": null
          }
        },
        "9d316d728cd246a6bae3f0bf11d12be4": {
          "model_module": "@jupyter-widgets/controls",
          "model_name": "DescriptionStyleModel",
          "model_module_version": "1.5.0",
          "state": {
            "_model_module": "@jupyter-widgets/controls",
            "_model_module_version": "1.5.0",
            "_model_name": "DescriptionStyleModel",
            "_view_count": null,
            "_view_module": "@jupyter-widgets/base",
            "_view_module_version": "1.2.0",
            "_view_name": "StyleView",
            "description_width": ""
          }
        }
      }
    }
  },
  "nbformat": 4,
  "nbformat_minor": 0
}